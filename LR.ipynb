{
 "cells": [
  {
   "cell_type": "code",
   "execution_count": 1,
   "id": "7aee7b60-d611-4576-a46e-77a8abbb2a17",
   "metadata": {},
   "outputs": [],
   "source": [
    "import pandas as pd\n",
    "import matplotlib.pyplot as plt \n",
    "import numpy as np"
   ]
  },
  {
   "cell_type": "code",
   "execution_count": 2,
   "id": "cefe5e05-1b68-4d47-a114-28eb3064b206",
   "metadata": {},
   "outputs": [],
   "source": [
    "df = pd.read_csv(\"C:/Users/User/Downloads/archive_lr/1.01. Simple linear regression.csv\")"
   ]
  },
  {
   "cell_type": "code",
   "execution_count": 23,
   "id": "8ab5e2ec-3a8b-4a05-b288-a488f14fc536",
   "metadata": {},
   "outputs": [],
   "source": [
    "df = df.apply(lambda x: x / 100)"
   ]
  },
  {
   "cell_type": "code",
   "execution_count": 12,
   "id": "601295df-39c2-4fe5-8815-ae78997a00af",
   "metadata": {},
   "outputs": [],
   "source": [
    "def MSE(k, b, points):\n",
    "    resident = 0 \n",
    "    for i in range(len(points)):\n",
    "        x = df[\"SAT\"][i]\n",
    "        y = df[\"GPA\"][i]\n",
    "        resident += (y - (k*x + b))**2\n",
    "    return resident / float(len(points))"
   ]
  },
  {
   "cell_type": "code",
   "execution_count": 35,
   "id": "273d3c5e-0a26-438b-a821-dcc5f81ffc9a",
   "metadata": {},
   "outputs": [],
   "source": [
    "def gradient_descent(k_now, b_now, points, L):\n",
    "    k_der = 0\n",
    "    b_der = 0\n",
    "\n",
    "    for i in range(points):\n",
    "        x = df[\"SAT\"][i]\n",
    "        y = df[\"GPA\"][i]\n",
    "\n",
    "        k_der += -(2/points) * x * (y - (k_now * x + b_now)) \n",
    "        b_der += -(2/points) * (y - (k_now * x + b_now)) \n",
    "\n",
    "    k = k_now -  k_der * L\n",
    "    b = b_now - b_der * L\n",
    "    return k, b"
   ]
  },
  {
   "cell_type": "code",
   "execution_count": 36,
   "id": "7862751d-444f-4df8-aedf-c49fadc6eb4c",
   "metadata": {},
   "outputs": [],
   "source": [
    "m = 0\n",
    "b = 0\n",
    "L = 0.001\n",
    "epochs = 1000\n",
    "n_points = df.shape[0]\n",
    "\n",
    "for i in range(epochs):\n",
    "    m, b = gradient_descent(m, b, n_points, L)"
   ]
  },
  {
   "cell_type": "code",
   "execution_count": 37,
   "id": "a9c1c2df-b8bb-4c2d-9bf6-d34e964250de",
   "metadata": {},
   "outputs": [
    {
     "data": {
      "image/png": "[encoded data removed]",
      "text/plain": [
       "<Figure size 432x288 with 1 Axes>"
      ]
     },
     "metadata": {
      "needs_background": "light"
     },
     "output_type": "display_data"
    }
   ],
   "source": [
    "plt.scatter(df[\"SAT\"], df[\"GPA\"], color=\"black\")\n",
    "plt.plot(list(range(15,22)), [m * x + b for x in range(15,22)], color=\"red\")\n",
    "plt.show()"
   ]
  }
 ],
 "metadata": {
  "kernelspec": {
   "display_name": "Python 3",
   "language": "python",
   "name": "python3"
  },
  "language_info": {
   "codemirror_mode": {
    "name": "ipython",
    "version": 3
   },
   "file_extension": ".py",
   "mimetype": "text/x-python",
   "name": "python",
   "nbconvert_exporter": "python",
   "pygments_lexer": "ipython3",
   "version": "3.9.6"
  }
 },
 "nbformat": 4,
 "nbformat_minor": 5
}
