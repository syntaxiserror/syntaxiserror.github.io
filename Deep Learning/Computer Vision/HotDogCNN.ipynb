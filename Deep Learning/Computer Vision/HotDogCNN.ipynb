{
 "cells": [
  {
   "cell_type": "code",
   "execution_count": 12,
   "id": "5a44aeb6-7b64-4448-bfc4-a498dd1912a4",
   "metadata": {},
   "outputs": [],
   "source": [
    "import numpy as np\n",
    "import pandas as pd\n",
    "import matplotlib.pyplot as plt\n",
    "import random\n",
    "import tensorflow as tf\n",
    "from tensorflow.keras import datasets, layers, models\n",
    "import tensorflow_datasets as tfds"
   ]
  },
  {
   "cell_type": "code",
   "execution_count": 2,
   "id": "e9067c8a-26df-4b6c-ba39-f78290b5bd0d",
   "metadata": {},
   "outputs": [],
   "source": [
    "df, df_info = tfds.load(\"food101\", as_supervised=True, shuffle_files=True, with_info=True, download=True)"
   ]
  },
  {
   "cell_type": "code",
   "execution_count": 3,
   "id": "e0476fac-45f6-44f3-be7d-453072d9fa03",
   "metadata": {},
   "outputs": [],
   "source": [
    "train_df, valid_df = df[\"train\"], df[\"validation\"]"
   ]
  },
  {
   "cell_type": "code",
   "execution_count": 4,
   "id": "b85295ab-72fc-42eb-a240-94b5cd20f450",
   "metadata": {},
   "outputs": [],
   "source": [
    "valid_df = valid_df.map(lambda image, label: (tf.cast(tf.image.resize(image, [50,50]), dtype=tf.int32), tf.cast(label == 55, dtype=tf.int32)))"
   ]
  },
  {
   "cell_type": "code",
   "execution_count": 5,
   "id": "033d6705-6ba7-43b5-8416-ba0cda61b6fd",
   "metadata": {},
   "outputs": [],
   "source": [
    "train_df = train_df.map(lambda image, label: (tf.cast(tf.image.resize(image, [50, 50]), dtype=tf.int32), tf.cast(label == 55, dtype=tf.int32)))"
   ]
  },
  {
   "cell_type": "code",
   "execution_count": 6,
   "id": "3b2d80ef-25fa-4032-9837-86bd28cd5991",
   "metadata": {},
   "outputs": [],
   "source": [
    "hotdogs = train_df.filter(lambda image, label: label == 1).repeat(3)\n",
    "not_hotdogs = train_df.filter(lambda image, label: label == 0)"
   ]
  },
  {
   "cell_type": "code",
   "execution_count": 7,
   "id": "f5316c00-2e60-42ff-bc81-9f94c9dcbe54",
   "metadata": {},
   "outputs": [],
   "source": [
    "valid_hotdogs = valid_df.filter(lambda image, label: label == 1).repeat(3)\n",
    "valid_not_hotdogs = valid_df.filter(lambda image, label: label == 0)"
   ]
  },
  {
   "cell_type": "code",
   "execution_count": 8,
   "id": "d2b91f34-5ff9-4669-bb00-a36822803386",
   "metadata": {},
   "outputs": [],
   "source": [
    "train_ds = tf.data.Dataset.sample_from_datasets([hotdogs, not_hotdogs], [0.5, 0.5], stop_on_empty_dataset=True)\n",
    "train_ds = train_ds.cache().batch(16).prefetch(tf.data.AUTOTUNE)"
   ]
  },
  {
   "cell_type": "code",
   "execution_count": 9,
   "id": "63a871ef-abed-4168-a2d6-0bc4a97bb1d9",
   "metadata": {},
   "outputs": [],
   "source": [
    "valid_ds = tf.data.Dataset.sample_from_datasets([valid_hotdogs, valid_not_hotdogs], [0.5, 0.5], stop_on_empty_dataset=True)\n",
    "valid_ds = valid_ds.cache().batch(16).prefetch(tf.data.AUTOTUNE)"
   ]
  },
  {
   "cell_type": "code",
   "execution_count": 16,
   "id": "61bfffb0-830e-4619-9990-a638dadfc8b4",
   "metadata": {},
   "outputs": [],
   "source": [
    "data_augmentation = models.Sequential([layers.RandomFlip(\"horizontal\"), layers.RandomRotation(0.2)])"
   ]
  },
  {
   "cell_type": "code",
   "execution_count": 23,
   "id": "ca6a737d-e936-4ab7-a46c-b5f4d1a50725",
   "metadata": {},
   "outputs": [],
   "source": [
    "model = models.Sequential()\n",
    "model.add(layers.Rescaling(1./255))\n",
    "model.add(data_augmentation)\n",
    "model.add(layers.Conv2D(128, (3, 3), activation=\"relu\", input_shape=[50, 50, 3]))\n",
    "model.add(layers.MaxPool2D(2,2))\n",
    "model.add(layers.Dropout(0.25))\n",
    "model.add(layers.Conv2D(64, (3, 3), activation=\"relu\", kernel_regularizer=tf.keras.regularizers.l2(l=0.01)))\n",
    "model.add(layers.MaxPool2D(2,2))\n",
    "model.add(layers.Dropout(0.25))\n",
    "model.add(layers.Conv2D(64, (3, 3), activation=\"relu\"))\n",
    "model.add(layers.Flatten())\n",
    "model.add(layers.Dense(128, activation=\"relu\"))\n",
    "model.add(layers.Dropout(0.25))\n",
    "model.add(layers.Dense(1))"
   ]
  },
  {
   "cell_type": "code",
   "execution_count": 24,
   "id": "981f15e9-80b6-48cf-938b-4819cea883e1",
   "metadata": {},
   "outputs": [],
   "source": [
    "lr = 0.0001\n",
    "model.compile(optimizer=tf.keras.optimizers.Adam(lr), loss=tf.keras.losses.BinaryCrossentropy(from_logits=True), metrics=[\"accuracy\"])"
   ]
  },
  {
   "cell_type": "code",
   "execution_count": 25,
   "id": "7e19802d-b939-455b-9bc7-923202a6a75e",
   "metadata": {},
   "outputs": [
    {
     "name": "stdout",
     "output_type": "stream",
     "text": [
      "Epoch 1/40\n",
      "281/281 [==============================] - 27s 83ms/step - loss: 1.2175 - accuracy: 0.4986 - val_loss: 0.9803 - val_accuracy: 0.5295\n",
      "Epoch 2/40\n",
      "281/281 [==============================] - 22s 78ms/step - loss: 0.8709 - accuracy: 0.5035 - val_loss: 0.7927 - val_accuracy: 0.5307\n",
      "Epoch 3/40\n",
      "281/281 [==============================] - 23s 81ms/step - loss: 0.7586 - accuracy: 0.5329 - val_loss: 0.7225 - val_accuracy: 0.5828\n",
      "Epoch 4/40\n",
      "281/281 [==============================] - 23s 80ms/step - loss: 0.7168 - accuracy: 0.5376 - val_loss: 0.6992 - val_accuracy: 0.5866\n",
      "Epoch 5/40\n",
      "281/281 [==============================] - 25s 87ms/step - loss: 0.6939 - accuracy: 0.5587 - val_loss: 0.6792 - val_accuracy: 0.5922\n",
      "Epoch 6/40\n",
      "281/281 [==============================] - 24s 85ms/step - loss: 0.6847 - accuracy: 0.5545 - val_loss: 0.6614 - val_accuracy: 0.6173\n",
      "Epoch 7/40\n",
      "281/281 [==============================] - 23s 82ms/step - loss: 0.6696 - accuracy: 0.5761 - val_loss: 0.6513 - val_accuracy: 0.6148\n",
      "Epoch 8/40\n",
      "281/281 [==============================] - 23s 83ms/step - loss: 0.6659 - accuracy: 0.5848 - val_loss: 0.6448 - val_accuracy: 0.6330\n",
      "Epoch 9/40\n",
      "281/281 [==============================] - 22s 79ms/step - loss: 0.6542 - accuracy: 0.6000 - val_loss: 0.6295 - val_accuracy: 0.6418\n",
      "Epoch 10/40\n",
      "281/281 [==============================] - 22s 79ms/step - loss: 0.6496 - accuracy: 0.6004 - val_loss: 0.6119 - val_accuracy: 0.6587\n",
      "Epoch 11/40\n",
      "281/281 [==============================] - 22s 79ms/step - loss: 0.6404 - accuracy: 0.6189 - val_loss: 0.6007 - val_accuracy: 0.6731\n",
      "Epoch 12/40\n",
      "281/281 [==============================] - 23s 83ms/step - loss: 0.6303 - accuracy: 0.6294 - val_loss: 0.6042 - val_accuracy: 0.6700\n",
      "Epoch 13/40\n",
      "281/281 [==============================] - 23s 80ms/step - loss: 0.6247 - accuracy: 0.6385 - val_loss: 0.5873 - val_accuracy: 0.6788\n",
      "Epoch 14/40\n",
      "281/281 [==============================] - 22s 79ms/step - loss: 0.6186 - accuracy: 0.6468 - val_loss: 0.5814 - val_accuracy: 0.6775\n",
      "Epoch 15/40\n",
      "281/281 [==============================] - 23s 81ms/step - loss: 0.6118 - accuracy: 0.6481 - val_loss: 0.5749 - val_accuracy: 0.6832\n",
      "Epoch 16/40\n",
      "281/281 [==============================] - 23s 82ms/step - loss: 0.6056 - accuracy: 0.6523 - val_loss: 0.5690 - val_accuracy: 0.6995\n",
      "Epoch 17/40\n",
      "281/281 [==============================] - 24s 86ms/step - loss: 0.5978 - accuracy: 0.6648 - val_loss: 0.5584 - val_accuracy: 0.7058\n",
      "Epoch 18/40\n",
      "281/281 [==============================] - 23s 82ms/step - loss: 0.5931 - accuracy: 0.6617 - val_loss: 0.5580 - val_accuracy: 0.7058\n",
      "Epoch 19/40\n",
      "281/281 [==============================] - 23s 80ms/step - loss: 0.5912 - accuracy: 0.6704 - val_loss: 0.5708 - val_accuracy: 0.6851\n",
      "Epoch 20/40\n",
      "281/281 [==============================] - 24s 85ms/step - loss: 0.5805 - accuracy: 0.6806 - val_loss: 0.5561 - val_accuracy: 0.7039\n",
      "Epoch 21/40\n",
      "281/281 [==============================] - 23s 80ms/step - loss: 0.5725 - accuracy: 0.6931 - val_loss: 0.5479 - val_accuracy: 0.7039\n",
      "Epoch 22/40\n",
      "281/281 [==============================] - 22s 78ms/step - loss: 0.5713 - accuracy: 0.6867 - val_loss: 0.5411 - val_accuracy: 0.7277\n",
      "Epoch 23/40\n",
      "281/281 [==============================] - 23s 82ms/step - loss: 0.5650 - accuracy: 0.6965 - val_loss: 0.5488 - val_accuracy: 0.7277\n",
      "Epoch 24/40\n",
      "281/281 [==============================] - 22s 80ms/step - loss: 0.5672 - accuracy: 0.6965 - val_loss: 0.5464 - val_accuracy: 0.7196\n",
      "Epoch 25/40\n",
      "281/281 [==============================] - 24s 85ms/step - loss: 0.5632 - accuracy: 0.6951 - val_loss: 0.5387 - val_accuracy: 0.7265\n",
      "Epoch 26/40\n",
      "281/281 [==============================] - 22s 80ms/step - loss: 0.5569 - accuracy: 0.7011 - val_loss: 0.5396 - val_accuracy: 0.7189\n",
      "Epoch 27/40\n",
      "281/281 [==============================] - 22s 78ms/step - loss: 0.5554 - accuracy: 0.7023 - val_loss: 0.5464 - val_accuracy: 0.7108\n",
      "Epoch 28/40\n",
      "281/281 [==============================] - 22s 78ms/step - loss: 0.5477 - accuracy: 0.7096 - val_loss: 0.5414 - val_accuracy: 0.7309\n",
      "Epoch 29/40\n",
      "281/281 [==============================] - 24s 84ms/step - loss: 0.5470 - accuracy: 0.7114 - val_loss: 0.5447 - val_accuracy: 0.7246\n",
      "Epoch 30/40\n",
      "281/281 [==============================] - 23s 80ms/step - loss: 0.5406 - accuracy: 0.7123 - val_loss: 0.5315 - val_accuracy: 0.7396\n",
      "Epoch 31/40\n",
      "281/281 [==============================] - 22s 78ms/step - loss: 0.5378 - accuracy: 0.7185 - val_loss: 0.5416 - val_accuracy: 0.7327\n",
      "Epoch 32/40\n",
      "281/281 [==============================] - 22s 78ms/step - loss: 0.5388 - accuracy: 0.7156 - val_loss: 0.5478 - val_accuracy: 0.7290\n",
      "Epoch 33/40\n",
      "281/281 [==============================] - 22s 78ms/step - loss: 0.5319 - accuracy: 0.7165 - val_loss: 0.5374 - val_accuracy: 0.7340\n",
      "Epoch 34/40\n",
      "281/281 [==============================] - 22s 77ms/step - loss: 0.5294 - accuracy: 0.7219 - val_loss: 0.5479 - val_accuracy: 0.7346\n",
      "Epoch 35/40\n",
      "281/281 [==============================] - 22s 78ms/step - loss: 0.5195 - accuracy: 0.7290 - val_loss: 0.5420 - val_accuracy: 0.7403\n",
      "Epoch 36/40\n",
      "281/281 [==============================] - 22s 78ms/step - loss: 0.5237 - accuracy: 0.7339 - val_loss: 0.5466 - val_accuracy: 0.7327\n",
      "Epoch 37/40\n",
      "281/281 [==============================] - 22s 79ms/step - loss: 0.5178 - accuracy: 0.7281 - val_loss: 0.5329 - val_accuracy: 0.7359\n",
      "Epoch 38/40\n",
      "281/281 [==============================] - 24s 84ms/step - loss: 0.5142 - accuracy: 0.7357 - val_loss: 0.5410 - val_accuracy: 0.7258\n",
      "Epoch 39/40\n",
      "281/281 [==============================] - 23s 80ms/step - loss: 0.5171 - accuracy: 0.7312 - val_loss: 0.5410 - val_accuracy: 0.7309\n",
      "Epoch 40/40\n",
      "281/281 [==============================] - 24s 84ms/step - loss: 0.5146 - accuracy: 0.7379 - val_loss: 0.5378 - val_accuracy: 0.7390\n"
     ]
    }
   ],
   "source": [
    "history = model.fit(train_ds, validation_data=valid_ds, epochs=40, verbose=1)"
   ]
  }
 ],
 "metadata": {
  "kernelspec": {
   "display_name": "Python 3 (ipykernel)",
   "language": "python",
   "name": "python3"
  },
  "language_info": {
   "codemirror_mode": {
    "name": "ipython",
    "version": 3
   },
   "file_extension": ".py",
   "mimetype": "text/x-python",
   "name": "python",
   "nbconvert_exporter": "python",
   "pygments_lexer": "ipython3",
   "version": "3.11.0"
  }
 },
 "nbformat": 4,
 "nbformat_minor": 5
}
