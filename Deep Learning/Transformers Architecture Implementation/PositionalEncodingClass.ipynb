{
 "cells": [
  {
   "cell_type": "code",
   "execution_count": 3,
   "id": "11288866-675a-4498-8c79-a0f94f645dc8",
   "metadata": {},
   "outputs": [],
   "source": [
    "import tensorflow as tf\n",
    "\n",
    "\n",
    "# Position is depth, d is length\n",
    "class PositionalEmbedding(tf.keras.layers.Layer):\n",
    "    def __init__(self, position, d):\n",
    "        super(PositionalEmbedding, self).__init__()\n",
    "        self.position = position\n",
    "        self.d = d\n",
    "        self.pos_encoding = self.positional_encoding(position, d) # stores positional embedding matrix\n",
    "\n",
    "    # Calcualtes the angles\n",
    "    def get_angles(self, position, i, d):\n",
    "        angles = tf.pow(10000, (2 * i) / tf.cast(d, tf.float32))\n",
    "        return position / angles \n",
    "\n",
    "    # Creates positional embedding matrix\n",
    "    def positional_encoding(self, position, d):\n",
    "        # Creates two tensors\n",
    "        position = tf.range(position, dtype=tf.float32)[:, tf.newaxis]\n",
    "        i = tf.range(d, dtype=tf.float32)[tf.newaxis, :]\n",
    "        angle_rads = self.get_angles(position, i, d) # creates the matrix based on tensors\n",
    "\n",
    "        # Applies sin and cos functions \n",
    "        sines = tf.math.sin(angle_rads[:, 0::2])\n",
    "        cosines = tf.math.cos(angle_rads[:, 1::2])\n",
    "\n",
    "        pos_encoding = tf.concat([sines, cosines], axis=-1)  # Combines two matrisies\n",
    "        pos_encoding = pos_encoding[tf.newaxis, ...]  # Adds dimension for batch size\n",
    "        return tf.cast(pos_encoding, tf.float32)\n",
    "\n",
    "    def call(self, inputs):\n",
    "        return inputs + self.pos_encoding[:, :tf.shape(inputs)[1], :]\n"
   ]
  }
 ],
 "metadata": {
  "kernelspec": {
   "display_name": "Python 3 (ipykernel)",
   "language": "python",
   "name": "python3"
  },
  "language_info": {
   "codemirror_mode": {
    "name": "ipython",
    "version": 3
   },
   "file_extension": ".py",
   "mimetype": "text/x-python",
   "name": "python",
   "nbconvert_exporter": "python",
   "pygments_lexer": "ipython3",
   "version": "3.11.0"
  }
 },
 "nbformat": 4,
 "nbformat_minor": 5
}
