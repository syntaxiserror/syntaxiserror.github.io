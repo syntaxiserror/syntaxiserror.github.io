{
 "cells": [
  {
   "cell_type": "code",
   "execution_count": 86,
   "id": "5c781774-45a0-4def-9bf6-e48ebf633460",
   "metadata": {},
   "outputs": [],
   "source": [
    "import numpy as np \n",
    "import tensorflow as tf"
   ]
  },
  {
   "cell_type": "code",
   "execution_count": 87,
   "id": "221e42c7-25d9-49e3-8a78-4c5a05a1875a",
   "metadata": {},
   "outputs": [],
   "source": [
    "mnist = tf.keras.datasets.mnist"
   ]
  },
  {
   "cell_type": "code",
   "execution_count": 168,
   "id": "b72f6dc1-5850-469c-915a-9e568485a84c",
   "metadata": {},
   "outputs": [],
   "source": [
    "(train_x, train_y), (test_x, test_y) = mnist.load_data()\n",
    "train_x, test_x = train_x.reshape(60000, 784), test_x.reshape(10000, 784)\n",
    "train_x, test_x = train_x / 255.0, test_x / 255.0\n",
    "train_y = train_y.reshape(60000, 1)"
   ]
  },
  {
   "cell_type": "code",
   "execution_count": 125,
   "id": "8c15c5be-4588-4b92-ac7f-48b9999e21fc",
   "metadata": {},
   "outputs": [],
   "source": [
    "class Layer_Dense:\n",
    "\tdef __init__(self, n_inputs, n_neurons):\n",
    "\t\tself.weights = np.random.uniform(-0.5, 0.5, size=(n_inputs, n_neurons))\n",
    "\t\tself.biases = np.zeros((1, n_neurons))\n",
    "\tdef forward(self, inputs):\n",
    "\t\tself.outcome = np.dot(inputs, self.weights) + self.biases"
   ]
  },
  {
   "cell_type": "code",
   "execution_count": 126,
   "id": "509d9b70-d811-4470-a003-61d5332197bc",
   "metadata": {},
   "outputs": [],
   "source": [
    "def ReLU(x):\n",
    "    return np.maximum(0, x)"
   ]
  },
  {
   "cell_type": "code",
   "execution_count": 127,
   "id": "e111d8ac-1794-4ab6-aa87-b44e51e7d763",
   "metadata": {},
   "outputs": [],
   "source": [
    "def softmax(x):\n",
    "    exp_scores = np.exp(x - np.max(x, axis=1, keepdims=True))\n",
    "    outcome = exp_scores / np.sum(exp_scores, axis=1, keepdims=True)\n",
    "    return outcome"
   ]
  },
  {
   "cell_type": "code",
   "execution_count": 144,
   "id": "f28c39c6-3f86-42a3-ad4a-9de96c9985f0",
   "metadata": {},
   "outputs": [],
   "source": [
    "def sigmoid(x):\n",
    "    return 1 / (1 + np.exp(-x))"
   ]
  },
  {
   "cell_type": "code",
   "execution_count": 128,
   "id": "38c4bb28-9fa6-4850-b939-b5a5cc85087f",
   "metadata": {},
   "outputs": [],
   "source": [
    "layer1 = Layer_Dense(784, 128)\n",
    "layer2 = Layer_Dense(128, 10)"
   ]
  },
  {
   "cell_type": "code",
   "execution_count": 162,
   "id": "f25faa19-a59e-4092-8857-628003979a58",
   "metadata": {},
   "outputs": [],
   "source": [
    "layer1.forward(train_x)\n",
    "l1 = sigmoid(layer1.outcome)\n",
    "layer2.forward(l1)\n",
    "l2 = softmax(layer2.outcome)"
   ]
  }
 ],
 "metadata": {
  "kernelspec": {
   "display_name": "tensorflowenv",
   "language": "python",
   "name": "tensorflowenv"
  },
  "language_info": {
   "codemirror_mode": {
    "name": "ipython",
    "version": 3
   },
   "file_extension": ".py",
   "mimetype": "text/x-python",
   "name": "python",
   "nbconvert_exporter": "python",
   "pygments_lexer": "ipython3",
   "version": "3.7.12"
  }
 },
 "nbformat": 4,
 "nbformat_minor": 5
}
